{
  "nbformat": 4,
  "nbformat_minor": 0,
  "metadata": {
    "colab": {
      "provenance": []
    },
    "kernelspec": {
      "name": "python3",
      "display_name": "Python 3"
    },
    "language_info": {
      "name": "python"
    }
  },
  "cells": [
    {
      "cell_type": "code",
      "execution_count": null,
      "metadata": {
        "colab": {
          "base_uri": "https://localhost:8080/"
        },
        "id": "S93YlEtwheWT",
        "outputId": "57866ce9-f3f4-4c96-bd42-3f3d6fa61c14"
      },
      "outputs": [
        {
          "output_type": "stream",
          "name": "stdout",
          "text": [
            "masukkan nilai untuk panjang a : 2\n",
            "masukkan nilai untuk panjang b : 3\n",
            "masukkan nilai untuk panjang c : 4\n",
            "ini adalah segitiga\n",
            "panjang a :  2.0 panjang b :  3.0 panjang c :  4.0 segitiga sembarang\n"
          ]
        }
      ],
      "source": [
        "a = float(input(\"masukkan nilai untuk panjang a : \"))\n",
        "b = float(input(\"masukkan nilai untuk panjang b : \"))\n",
        "c = float(input(\"masukkan nilai untuk panjang c : \"))\n",
        "\n",
        "if a + b >= c and a + c >= b and b + c >= a:\n",
        "  print(\"ini adalah segitiga\")\n",
        "  if a == b == c:\n",
        "    print(\"panjang a : \", a, \"panjang b : \", b, \"panjang c : \", c, \"segitiga sama sisi\")\n",
        "  elif a == b or a == c or b == c:\n",
        "    print(\"panjang a : \", a, \"panjang b : \", b, \"panjang c : \", c, \"segitiga sama kaki\")\n",
        "  else:\n",
        "    print(\"panjang a : \", a, \"panjang b : \", b, \"panjang c : \", c, \"segitiga sembarang\")\n",
        "\n",
        "else:\n",
        "  print(\"ini bukan segitiga\")\n",
        "\n",
        "\n",
        "\n",
        "\n",
        "\n",
        "\n"
      ]
    },
    {
      "cell_type": "code",
      "source": [
        "a = float(input(\"masukkan nilai a : \"))\n",
        "b = float(input(\"masukkan nilai b : \"))\n",
        "c = float(input(\"masukkan nilai c : \"))\n",
        "\n",
        "#rumus determinan\n",
        "D = b**2 - 4*a*c\n",
        "\n",
        "if D > 0:\n",
        "  #rumus akar persamaan kuadrat\n",
        "  x_1 = (-b + (b**2 - 4*a*c)**(1/2)) / 2*a\n",
        "  x_2 = (-b - (b**2 - 4*a*c)**(1/2)) / 2*a\n",
        "  print(\"Determinan : \", D)\n",
        "  print(f\"dua angka real : \")\n",
        "  print(f\"x1 : {x_1} \")\n",
        "  print(f\"x2 : {x_2} \")\n",
        "elif D == 0:\n",
        "  akar = -b / (2 * a)\n",
        "  print(f\"Determinan : {D} \")\n",
        "  print(f\"satu angka real : {akar} \")\n",
        "else:\n",
        "    real_part = -b / (2 * a)\n",
        "    imag_part = math.sqrt(abs(D)) / (2 * a)\n",
        "    print(\"Determinan : \", D )\n",
        "    print(f\"angka imaginer : {real_part} ± {imag_part}\")"
      ],
      "metadata": {
        "colab": {
          "base_uri": "https://localhost:8080/"
        },
        "id": "jf9AR-0QqM7h",
        "outputId": "17b5cd1c-3714-4624-e3a2-f2c923a4c06f"
      },
      "execution_count": 37,
      "outputs": [
        {
          "output_type": "stream",
          "name": "stdout",
          "text": [
            "masukkan nilai a : 5\n",
            "masukkan nilai b : 3\n",
            "masukkan nilai c : 1\n",
            "Determinan :  -11.0\n",
            "angka imaginer : -0.3 ± 0.33166247903553997\n"
          ]
        }
      ]
    }
  ]
}