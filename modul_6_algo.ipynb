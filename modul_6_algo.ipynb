{
  "nbformat": 4,
  "nbformat_minor": 0,
  "metadata": {
    "colab": {
      "provenance": []
    },
    "kernelspec": {
      "name": "python3",
      "display_name": "Python 3"
    },
    "language_info": {
      "name": "python"
    }
  },
  "cells": [
    {
      "cell_type": "code",
      "execution_count": 20,
      "metadata": {
        "colab": {
          "base_uri": "https://localhost:8080/"
        },
        "id": "NUwvSwKKvlh2",
        "outputId": "25bfc270-d776-43fd-861a-d3bceb7f717a"
      },
      "outputs": [
        {
          "output_type": "stream",
          "name": "stdout",
          "text": [
            "Berapa mata pelajaran kamu: 3\n",
            "Berapa nilai pelajaran ke-1: A\n",
            "Berapa nilai pelajaran ke-2: A\n",
            "Berapa nilai pelajaran ke-3: A\n",
            "Total nilai: 12.0\n",
            "Rata-rata: 4.0\n"
          ]
        }
      ],
      "source": [
        "def nilai():\n",
        "    pel = int(input(\"Berapa mata pelajaran kamu: \"))\n",
        "    counter = 0\n",
        "    total_nilai = 0\n",
        "\n",
        "    while counter < pel:\n",
        "\n",
        "        nilai = str(input(f\"Berapa nilai pelajaran ke-{counter + 1}: \"))\n",
        "        if nilai == \"A\":\n",
        "            total_nilai += 4.00\n",
        "        elif nilai == \"A-\":\n",
        "            total_nilai += 3.75\n",
        "        elif nilai == \"B+\":\n",
        "            total_nilai += 3.50\n",
        "        elif nilai == \"B\":\n",
        "            total_nilai += 3.00\n",
        "        elif nilai == \"B-\":\n",
        "            total_nilai += 2.75\n",
        "        elif nilai == \"C+\":\n",
        "            total_nilai += 2.50\n",
        "        elif nilai == \"C\":\n",
        "            total_nilai += 2.00\n",
        "        elif nilai == \"C-\":\n",
        "            total_nilai += 1.75\n",
        "        elif nilai == \"D\":\n",
        "            total_nilai += 1.50\n",
        "        elif nilai == \"E\":\n",
        "            total_nilai += 1.25\n",
        "\n",
        "\n",
        "        counter += 1\n",
        "\n",
        "    rata = total_nilai / pel\n",
        "    print(f\"Total nilai: {total_nilai}\")\n",
        "    print(f\"Rata-rata: {rata}\")\n",
        "\n",
        "nilai()\n"
      ]
    },
    {
      "cell_type": "code",
      "source": [
        "def f(bulan, tahun):\n",
        "\n",
        "  while True:\n",
        "    try:\n",
        "      if bulan < 1 and bulan > 12:\n",
        "        print(\"tidak ada bulan yang seperti itu\")\n",
        "      else:\n",
        "          if (tahun % 4 == 0 and tahun % 100 != 0) or (tahun % 400 == 0):\n",
        "                  kabisat = True\n",
        "          else:\n",
        "                  kabisat = False\n",
        "\n",
        "          if bulan in [1,3,5,7,8,10,12]:\n",
        "                  hari = 31\n",
        "          elif bulan in [4,6,9,11]:\n",
        "                  hari = 30\n",
        "          elif bulan == 2:\n",
        "                  hari = 29 if kabisat else 28\n",
        "\n",
        "          print(\"bulan\", bulan, \"tahun\", tahun, \"memiliki\", hari, \"hari\")\n",
        "          break\n",
        "\n",
        "    except ValueError:\n",
        "        print(\"Input tidak valid. Silakan masukkan angka.\")\n",
        "\n",
        "bulan = int(input(\"masukkan bulan : \"))\n",
        "tahun = int(input(\"masukkan tahun : \"))\n",
        "f(bulan, tahun)\n",
        ""
      ],
      "metadata": {
        "colab": {
          "base_uri": "https://localhost:8080/"
        },
        "id": "kY-KwZ3RxhR6",
        "outputId": "91dad566-9cd6-4611-9920-86ca2d634ea0"
      },
      "execution_count": 7,
      "outputs": [
        {
          "output_type": "stream",
          "name": "stdout",
          "text": [
            "masukkan bulan : 2\n",
            "masukkan tahun : 2001\n",
            "bulan 2 tahun 2001 memiliki 28 hari\n"
          ]
        }
      ]
    }
  ]
}