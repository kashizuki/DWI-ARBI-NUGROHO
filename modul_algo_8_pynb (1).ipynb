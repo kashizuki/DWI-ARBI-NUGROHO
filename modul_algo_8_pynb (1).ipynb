{
  "nbformat": 4,
  "nbformat_minor": 0,
  "metadata": {
    "colab": {
      "provenance": []
    },
    "kernelspec": {
      "name": "python3",
      "display_name": "Python 3"
    },
    "language_info": {
      "name": "python"
    }
  },
  "cells": [
    {
      "cell_type": "code",
      "execution_count": null,
      "metadata": {
        "id": "qW1SDq1g4RRv"
      },
      "outputs": [],
      "source": []
    },
    {
      "cell_type": "code",
      "source": [
        "def g(angka):\n",
        "\n",
        "  if angka == 0:\n",
        "    return 0\n",
        "  else:\n",
        "    num = int(input(f\"masukkan angka ke-{angka} : \"))\n",
        "    return num + g(angka - 1)\n",
        "\n",
        "\n",
        "angka = int(input(\"berapa angka yang ingin dimasukkan : \"))\n",
        "g(angka)"
      ],
      "metadata": {
        "colab": {
          "base_uri": "https://localhost:8080/"
        },
        "id": "4LXYxtAz6EAw",
        "outputId": "714784c2-5ae4-433e-d964-53058049ed03"
      },
      "execution_count": null,
      "outputs": [
        {
          "name": "stdout",
          "output_type": "stream",
          "text": [
            "berapa angka yang ingin dimasukkan : 3\n",
            "masukkan angka ke-3 : 4\n",
            "masukkan angka ke-2 : 5\n",
            "masukkan angka ke-1 : 2\n"
          ]
        },
        {
          "output_type": "execute_result",
          "data": {
            "text/plain": [
              "11"
            ]
          },
          "metadata": {},
          "execution_count": 22
        }
      ]
    },
    {
      "cell_type": "code",
      "source": [
        "def f(number, power):\n",
        "\n",
        "  if power == 0:\n",
        "    return 1\n",
        "  elif power > 0:\n",
        "    rumus1 = number * f(number, power - 1)\n",
        "    return rumus1\n",
        "  else:\n",
        "    rumus2 = 1 / f(number, -power)\n",
        "    return rumus2\n",
        "\n",
        "number = int(input(\"masukkan angka : \"))\n",
        "power = int(input(\"masukkan pangkat : \"))\n",
        "hasil = f(number, power)\n",
        "print(f\"hasilnya adalah {hasil}\")\n",
        "\n"
      ],
      "metadata": {
        "colab": {
          "base_uri": "https://localhost:8080/"
        },
        "id": "_NdUeSGqC4nf",
        "outputId": "920dee41-eb3a-4f4b-fbf3-b41fb703adc5"
      },
      "execution_count": null,
      "outputs": [
        {
          "output_type": "stream",
          "name": "stdout",
          "text": [
            "masukkan angka : 5\n",
            "masukkan pangkat : 2\n",
            "hasilnya adalah 25\n"
          ]
        }
      ]
    },
    {
      "cell_type": "code",
      "source": [],
      "metadata": {
        "id": "Doi_ErgmjPxq"
      },
      "execution_count": null,
      "outputs": []
    }
  ]
}