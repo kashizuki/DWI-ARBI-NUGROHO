{
  "nbformat": 4,
  "nbformat_minor": 0,
  "metadata": {
    "colab": {
      "provenance": []
    },
    "kernelspec": {
      "name": "python3",
      "display_name": "Python 3"
    },
    "language_info": {
      "name": "python"
    }
  },
  "cells": [
    {
      "cell_type": "code",
      "execution_count": null,
      "metadata": {
        "colab": {
          "base_uri": "https://localhost:8080/"
        },
        "id": "UJLmwpln8q-F",
        "outputId": "9a4afeab-c73b-4b4b-8dc4-3cf9f10d2819"
      },
      "outputs": [
        {
          "output_type": "stream",
          "name": "stdout",
          "text": [
            "-----masukkan data anda-----\n",
            "nama : Dwi Arbi Nugroho\n",
            "nim : 064102400030\n",
            "kelas : 603\n",
            "jurusan : Informatika\n",
            "\n",
            "-----Ini data anda-----\n",
            "nama     :  Dwi Arbi Nugroho\n",
            "nim      :  064102400030\n",
            "kelas    :  603\n",
            "jurusan  :  Informatika\n"
          ]
        }
      ],
      "source": [
        "# 11 praktikum\n",
        "\n",
        "print(\"-----masukkan data anda-----\")\n",
        "nama = input(\"nama : \")\n",
        "nim = input(\"nim : \")\n",
        "kelas = input(\"kelas : \")\n",
        "jurusan = input(\"jurusan : \")\n",
        "\n",
        "class mahasiswa:\n",
        "  def __init__(self,nama,nim,kelas,jurusan):\n",
        "    self.nama = nama\n",
        "    self.nim = nim\n",
        "    self.kelas = kelas\n",
        "    self.jurusan = jurusan\n",
        "\n",
        "  def display(self):\n",
        "    print(\"\\n-----Ini data anda-----\")\n",
        "    print(\"nama     : \",self.nama)\n",
        "    print(\"nim      : \",self.nim)\n",
        "    print(\"kelas    : \",self.kelas)\n",
        "    print(\"jurusan  : \",self.jurusan)\n",
        "\n",
        "mhs = mahasiswa(nama,nim,kelas,jurusan)\n",
        "mhs.display()"
      ]
    },
    {
      "cell_type": "code",
      "source": [
        "# 11 praktikum\n",
        "class Data:\n",
        "    def __init__(self, nilai):\n",
        "        self.nilai = nilai  # Atribut untuk nilai\n",
        "\n",
        "    # Getter method\n",
        "    def get_nilai(self):\n",
        "        return self.nilai\n",
        "\n",
        "    # Setter method\n",
        "    def set_nilai(self, nilai):\n",
        "        self.nilai = nilai\n",
        "\n",
        "# Fungsi utama untuk interaksi dengan user\n",
        "\n",
        "    # Input awal dari user\n",
        "nilai_awal = (input(\"Masukkan nilai awal: \"))\n",
        "data = Data(nilai_awal)\n",
        "\n",
        "while True:\n",
        "  print(\"\\nPilih opsi yang ingin dilakukan:\")\n",
        "  print(\"1. Tampilkan nilai\")\n",
        "  print(\"2. Ubah nilai\")\n",
        "  print(\"3. Keluar\")\n",
        "\n",
        "        # Menerima pilihan dari user\n",
        "  pilihan = int(input(\"Masukkan pilihan (1/2/3): \"))\n",
        "\n",
        "  if pilihan == 1:\n",
        "            # Tampilkan nilai menggunakan getter\n",
        "    print(f\"Nilai saat ini: {data.get_nilai()}\")\n",
        "\n",
        "  elif pilihan == 2:\n",
        "            # Menerima input baru dari user dan set nilai baru\n",
        "    nilai_baru = (input(\"Masukkan nilai baru: \"))\n",
        "    data.set_nilai(nilai_baru)\n",
        "\n",
        "  elif pilihan == 3:\n",
        "            # Keluar dari perulangan\n",
        "    print(\"Keluar dari program...\")\n",
        "    break\n",
        "\n",
        "  else:\n",
        "    print(\"Pilihan tidak valid! Silakan coba lagi.\")\n",
        "\n",
        "\n"
      ],
      "metadata": {
        "id": "V2WXFy5L8zv7",
        "colab": {
          "base_uri": "https://localhost:8080/"
        },
        "outputId": "650217c7-bfb2-4544-91a6-43033addd500"
      },
      "execution_count": null,
      "outputs": [
        {
          "output_type": "stream",
          "name": "stdout",
          "text": [
            "Masukkan nilai awal: NIM = 064102400030\n",
            "\n",
            "Pilih opsi yang ingin dilakukan:\n",
            "1. Tampilkan nilai\n",
            "2. Ubah nilai\n",
            "3. Keluar\n",
            "Masukkan pilihan (1/2/3): 1\n",
            "Nilai saat ini: NIM = 064102400030\n",
            "\n",
            "Pilih opsi yang ingin dilakukan:\n",
            "1. Tampilkan nilai\n",
            "2. Ubah nilai\n",
            "3. Keluar\n",
            "Masukkan pilihan (1/2/3): 2\n",
            "Masukkan nilai baru: Nama : Dwi Arbi Nugroho\n",
            "\n",
            "Pilih opsi yang ingin dilakukan:\n",
            "1. Tampilkan nilai\n",
            "2. Ubah nilai\n",
            "3. Keluar\n",
            "Masukkan pilihan (1/2/3): 2\n",
            "Masukkan nilai baru: Nama : Dwi Arbi Nugroho\n",
            "\n",
            "Pilih opsi yang ingin dilakukan:\n",
            "1. Tampilkan nilai\n",
            "2. Ubah nilai\n",
            "3. Keluar\n",
            "Masukkan pilihan (1/2/3): 1\n",
            "Nilai saat ini: Nama : Dwi Arbi Nugroho\n",
            "\n",
            "Pilih opsi yang ingin dilakukan:\n",
            "1. Tampilkan nilai\n",
            "2. Ubah nilai\n",
            "3. Keluar\n",
            "Masukkan pilihan (1/2/3): 3\n",
            "Keluar dari program...\n"
          ]
        }
      ]
    },
    {
      "cell_type": "code",
      "source": [
        "# 12 praktikum\n",
        "\n",
        "import pandas as pd\n",
        "\n",
        "data = pd.read_csv('Dwi Arbi Nugroho - Negara.csv')\n",
        "\n",
        "print(\"Data Negara:\")\n",
        "print(data.head(10))\n",
        "\n",
        "mean_populasi = data['Populasi'].mean()\n",
        "std_dev_populasi = data['Populasi'].std()\n",
        "\n",
        "print(f\"\\nMean (Rata-rata) Populasi: {mean_populasi}\")\n",
        "print(f\"Standar Deviasi Populasi: {std_dev_populasi}\")"
      ],
      "metadata": {
        "colab": {
          "base_uri": "https://localhost:8080/"
        },
        "id": "nfWt60pM82BT",
        "outputId": "481262df-c408-4fea-9072-3d335ffe80a5"
      },
      "execution_count": null,
      "outputs": [
        {
          "output_type": "stream",
          "name": "stdout",
          "text": [
            "Data Negara:\n",
            "            Negara       Ibu Kota    Benua   Luas  Populasi\n",
            "0        Indonesia        Jakarta     Asia   1905       264\n",
            "1           Jepang          Tokyo     Asia    377       143\n",
            "2            India      New Delhi     Asia   3287      1252\n",
            "3            China        Beijing     Asia   9597      1357\n",
            "4  Amerika Serikat  Washington DC  Amerika   9834       329\n",
            "5           Brazil       Brazilia  Amerika   8515       210\n",
            "6            Rusia         Moskow     Asia  17098       146\n",
            "7          Meksiko   Meksiko City  Amerika   1964       126\n",
            "8          Nigeria          Abuja   Afrika    923       200\n",
            "9           Jerman         Berlin    Eropa    357        83\n",
            "\n",
            "Mean (Rata-rata) Populasi: 351.5833333333333\n",
            "Standar Deviasi Populasi: 453.10995220572994\n"
          ]
        }
      ]
    },
    {
      "cell_type": "code",
      "source": [
        "# 12 laporan praktikum\n",
        "\n",
        "import pandas as pd\n",
        "\n",
        "data = pd.read_csv('Dwi Arbi Nugroho - Negara.csv')\n",
        "\n",
        "print(\"Data Negara:\")\n",
        "print(data.head(10))\n",
        "\n",
        "mean_populasi = data['Populasi'].mean()\n",
        "std_dev_populasi = data['Populasi'].std()\n",
        "\n",
        "print(f\"\\nMean (Rata-rata) Populasi: {mean_populasi}\")\n",
        "print(f\"Standar Deviasi Populasi: {std_dev_populasi}\")\n",
        "\n",
        "with open('NegaraMean', 'w') as file:\n",
        "    file.write(f\"Mean (Rata-rata) Populasi: {mean_populasi}\\n\")\n",
        "\n",
        "with open('NegaraStandarDeviasi', 'w') as file:\n",
        "    file.write(f\"Standar Deviasi Populasi: {std_dev_populasi}\\n\")"
      ],
      "metadata": {
        "id": "gJ47dIVN83ea",
        "colab": {
          "base_uri": "https://localhost:8080/"
        },
        "outputId": "58879f05-0018-4d25-f98d-ce8fafbdd5d9"
      },
      "execution_count": null,
      "outputs": [
        {
          "output_type": "stream",
          "name": "stdout",
          "text": [
            "Data Negara:\n",
            "            Negara       Ibu Kota    Benua   Luas  Populasi\n",
            "0        Indonesia        Jakarta     Asia   1905       264\n",
            "1           Jepang          Tokyo     Asia    377       143\n",
            "2            India      New Delhi     Asia   3287      1252\n",
            "3            China        Beijing     Asia   9597      1357\n",
            "4  Amerika Serikat  Washington DC  Amerika   9834       329\n",
            "5           Brazil       Brazilia  Amerika   8515       210\n",
            "6            Rusia         Moskow     Asia  17098       146\n",
            "7          Meksiko   Meksiko City  Amerika   1964       126\n",
            "8          Nigeria          Abuja   Afrika    923       200\n",
            "9           Jerman         Berlin    Eropa    357        83\n",
            "\n",
            "Mean (Rata-rata) Populasi: 351.5833333333333\n",
            "Standar Deviasi Populasi: 453.10995220572994\n"
          ]
        }
      ]
    },
    {
      "cell_type": "code",
      "source": [
        "import csv\n",
        "\n",
        "# Data dari latihan sebelumnya (contoh data, ganti dengan data yang sesuai)\n",
        "data = [\n",
        "    {\"Negara\": \"Indonesia\", \"Luas Area\": 1904569, \"Total Populasi\": 273523615},\n",
        "    {\"Negara\": \"Malaysia\", \"Luas Area\": 330803, \"Total Populasi\": 32365999},\n",
        "    {\"Negara\": \"Singapura\", \"Luas Area\": 728.6, \"Total Populasi\": 5685807},\n",
        "    {\"Negara\": \"Thailand\", \"Luas Area\": 513120, \"Total Populasi\": 69799978}\n",
        "]\n",
        "\n",
        "# Menghitung mean dan standar deviasi secara manual\n",
        "luas_area = [item['Luas Area'] for item in data]\n",
        "populasi = [item['Total Populasi'] for item in data]\n",
        "\n",
        "mean_luas = sum(luas_area) / len(luas_area)\n",
        "mean_populasi = sum(populasi) / len(populasi)\n",
        "\n",
        "stddev_luas = (sum((x - mean_luas) ** 2 for x in luas_area) / len(luas_area)) ** 0.5\n",
        "stddev_populasi = (sum((x - mean_populasi) ** 2 for x in populasi) / len(populasi)) ** 0.5\n",
        "\n",
        "# Menyiapkan data untuk file CSV\n",
        "mean_data = [\n",
        "    {\"Kriteria\": \"Luas Area\", \"Mean\": mean_luas},\n",
        "    {\"Kriteria\": \"Total Populasi\", \"Mean\": mean_populasi}\n",
        "]\n",
        "\n",
        "stddev_data = [\n",
        "    {\"Kriteria\": \"Luas Area\", \"Standar Deviasi\": stddev_luas},\n",
        "    {\"Kriteria\": \"Total Populasi\", \"Standar Deviasi\": stddev_populasi}\n",
        "]\n",
        "\n",
        "# Menulis file NegaraMean.csv\n",
        "with open(\"NegaraMean.csv\", \"w\", newline=\"\") as mean_file:\n",
        "    writer = csv.DictWriter(mean_file, fieldnames=[\"Kriteria\", \"Mean\"])\n",
        "    writer.writeheader()\n",
        "    writer.writerows(mean_data)\n",
        "\n",
        "# Menulis file NegaraStandarDeviasi.csv\n",
        "with open(\"NegaraStandarDeviasi.csv\", \"w\", newline=\"\") as stddev_file:\n",
        "    writer = csv.DictWriter(stddev_file, fieldnames=[\"Kriteria\", \"Standar Deviasi\"])\n",
        "    writer.writeheader()\n",
        "    writer.writerows(stddev_data)\n",
        "\n",
        "print(\"File NegaraMean.csv dan NegaraStandarDeviasi.csv berhasil dibuat!\")\n"
      ],
      "metadata": {
        "colab": {
          "base_uri": "https://localhost:8080/"
        },
        "id": "hA2ZfhFdcIJt",
        "outputId": "0b296db5-ac72-41a1-eb8b-bdf9e3a4ba09"
      },
      "execution_count": null,
      "outputs": [
        {
          "output_type": "stream",
          "name": "stdout",
          "text": [
            "File NegaraMean.csv dan NegaraStandarDeviasi.csv berhasil dibuat!\n"
          ]
        }
      ]
    }
  ]
}