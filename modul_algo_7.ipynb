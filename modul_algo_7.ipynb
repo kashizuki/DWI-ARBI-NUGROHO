{
  "nbformat": 4,
  "nbformat_minor": 0,
  "metadata": {
    "colab": {
      "provenance": []
    },
    "kernelspec": {
      "name": "python3",
      "display_name": "Python 3"
    },
    "language_info": {
      "name": "python"
    }
  },
  "cells": [
    {
      "cell_type": "code",
      "execution_count": null,
      "metadata": {
        "colab": {
          "base_uri": "https://localhost:8080/"
        },
        "id": "hkoBWz7sxKUk",
        "outputId": "4f90e2af-07c0-47a7-d52e-f75d27b4becf"
      },
      "outputs": [
        {
          "output_type": "stream",
          "name": "stdout",
          "text": [
            "berapa bilangan yang ingin kamu masukkan : 4\n",
            "4, ini bukan bilangan prima\n"
          ]
        }
      ],
      "source": [
        "def prima(bilangan):\n",
        "  bilangan = int(bilangan)\n",
        "  if bilangan <= 1:\n",
        "    return False\n",
        "  for i in range(2, int(bilangan ** 0.5) + 1):\n",
        "    if bilangan % i == 0:\n",
        "      return False\n",
        "  return True\n",
        "\n",
        "\n",
        "def cek(bilangan):\n",
        "  if prima(bilangan):\n",
        "    print(f\"{bilangan}, ini adalah bilangan prima\")\n",
        "  else:\n",
        "    print(f\"{bilangan}, ini bukan bilangan prima\")\n",
        "\n",
        "bilangan = input(\"berapa bilangan yang ingin kamu masukkan : \")\n",
        "cek(bilangan)\n"
      ]
    },
    {
      "cell_type": "code",
      "source": [
        "def f(angka):\n",
        "  angka = int(angka)\n",
        "\n",
        "  if angka % 10 == 1:\n",
        "        return \"st\"\n",
        "  elif angka % 10  == 2:\n",
        "        return \"nd\"\n",
        "  elif angka % 10  == 3:\n",
        "        return \"rd\"\n",
        "  else:\n",
        "        return \"th\"\n",
        "\n",
        "def g(angka):\n",
        "  urutan = f(angka)\n",
        "  print(f\"{angka}{urutan}\")\n",
        "\n",
        "urut= input(f\"masukkan urutan berapa : \")\n",
        "g(urut)"
      ],
      "metadata": {
        "colab": {
          "base_uri": "https://localhost:8080/"
        },
        "id": "FVtcSTts-Yze",
        "outputId": "2f2b3603-86d7-470c-acb6-f00fd3dd5a6d"
      },
      "execution_count": 39,
      "outputs": [
        {
          "output_type": "stream",
          "name": "stdout",
          "text": [
            "masukkan urutan berapa : 14\n",
            "14th\n"
          ]
        }
      ]
    },
    {
      "cell_type": "code",
      "source": [
        "def f(angka1, angka2):\n",
        "  return angka1 % angka2\n",
        "\n",
        "\n",
        "f(13,10)"
      ],
      "metadata": {
        "colab": {
          "base_uri": "https://localhost:8080/"
        },
        "id": "12S1sMFsIFVz",
        "outputId": "5a668722-a78c-4828-be3f-d7912767ba41"
      },
      "execution_count": 37,
      "outputs": [
        {
          "output_type": "execute_result",
          "data": {
            "text/plain": [
              "3"
            ]
          },
          "metadata": {},
          "execution_count": 37
        }
      ]
    },
    {
      "cell_type": "code",
      "source": [
        "def get_ordinal_suffix(number):\n",
        "    # Mengubah input angka menjadi string untuk pengecekan digit terakhir\n",
        "    if 10 <= number % 100 <= 20:\n",
        "        suffix = \"th\"  # untuk angka 11, 12, 13, ... 19 selalu menggunakan \"th\"\n",
        "    else:\n",
        "        # Pengecekan digit terakhir untuk menambah \"st\", \"nd\", \"rd\", atau \"th\"\n",
        "        last_digit = number % 10\n",
        "        if last_digit == 1:\n",
        "            suffix = \"st\"\n",
        "        elif last_digit == 2:\n",
        "            suffix = \"nd\"\n",
        "        elif last_digit == 3:\n",
        "            suffix = \"rd\"\n",
        "        else:\n",
        "            suffix = \"th\"\n",
        "    return str(number) + suffix\n",
        "\n",
        "# Program utama\n",
        "while True:\n",
        "    # Menerima input dari pengguna\n",
        "    user_input = input(\"Masukkan angka (atau ketik 'exit' untuk berhenti): \")\n",
        "    if user_input.lower() == 'exit':\n",
        "        break\n",
        "    try:\n",
        "        # Mengubah input menjadi integer\n",
        "        number = int(user_input)\n",
        "        # Menampilkan output dengan ordinal suffix\n",
        "        print(f\">>{get_ordinal_suffix(number)}\")\n",
        "    except ValueError:\n",
        "        print(\"Input tidak valid. Harap masukkan angka.\")\n"
      ],
      "metadata": {
        "colab": {
          "base_uri": "https://localhost:8080/"
        },
        "id": "ROyr0rY7ITQm",
        "outputId": "4a88d714-5bb6-40c2-eeef-ee18b192ba7c"
      },
      "execution_count": 33,
      "outputs": [
        {
          "name": "stdout",
          "output_type": "stream",
          "text": [
            "Masukkan angka (atau ketik 'exit' untuk berhenti): 11\n",
            ">>11th\n",
            "Masukkan angka (atau ketik 'exit' untuk berhenti): 12\n",
            ">>12th\n",
            "Masukkan angka (atau ketik 'exit' untuk berhenti): exit\n"
          ]
        }
      ]
    }
  ]
}