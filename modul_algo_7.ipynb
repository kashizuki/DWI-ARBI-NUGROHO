{
  "nbformat": 4,
  "nbformat_minor": 0,
  "metadata": {
    "colab": {
      "provenance": []
    },
    "kernelspec": {
      "name": "python3",
      "display_name": "Python 3"
    },
    "language_info": {
      "name": "python"
    }
  },
  "cells": [
    {
      "cell_type": "code",
      "execution_count": null,
      "metadata": {
        "colab": {
          "base_uri": "https://localhost:8080/"
        },
        "id": "hkoBWz7sxKUk",
        "outputId": "4f90e2af-07c0-47a7-d52e-f75d27b4becf"
      },
      "outputs": [
        {
          "output_type": "stream",
          "name": "stdout",
          "text": [
            "berapa bilangan yang ingin kamu masukkan : 4\n",
            "4, ini bukan bilangan prima\n"
          ]
        }
      ],
      "source": [
        "def prima(bilangan):\n",
        "  bilangan = int(bilangan)\n",
        "  if bilangan <= 1:\n",
        "    return False\n",
        "  for i in range(2, int(bilangan ** 0.5) + 1):\n",
        "    if bilangan % i == 0:\n",
        "      return False\n",
        "  return True\n",
        "\n",
        "\n",
        "def cek(bilangan):\n",
        "  if prima(bilangan):\n",
        "    print(f\"{bilangan}, ini adalah bilangan prima\")\n",
        "  else:\n",
        "    print(f\"{bilangan}, ini bukan bilangan prima\")\n",
        "\n",
        "bilangan = input(\"berapa bilangan yang ingin kamu masukkan : \")\n",
        "cek(bilangan)\n"
      ]
    },
    {
      "cell_type": "code",
      "source": [
        "def f(angka):\n",
        "  angka = int(angka)\n",
        "\n",
        "  if angka % 10 == 1:\n",
        "        return \"st\"\n",
        "  elif angka % 10  == 2:\n",
        "        return \"nd\"\n",
        "  elif angka % 10  == 3:\n",
        "        return \"rd\"\n",
        "  else:\n",
        "        return \"th\"\n",
        "\n",
        "def g(angka):\n",
        "  urutan = f(angka)\n",
        "  print(f\"{angka}{urutan}\")\n",
        "\n",
        "urut= input(f\"masukkan urutan berapa : \")\n",
        "g(urut)"
      ],
      "metadata": {
        "colab": {
          "base_uri": "https://localhost:8080/"
        },
        "id": "FVtcSTts-Yze",
        "outputId": "2f2b3603-86d7-470c-acb6-f00fd3dd5a6d"
      },
      "execution_count": 39,
      "outputs": [
        {
          "output_type": "stream",
          "name": "stdout",
          "text": [
            "masukkan urutan berapa : 14\n",
            "14th\n"
          ]
        }
      ]
    }
  ]
}