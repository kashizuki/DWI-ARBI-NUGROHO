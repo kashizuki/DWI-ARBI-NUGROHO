{
  "nbformat": 4,
  "nbformat_minor": 0,
  "metadata": {
    "colab": {
      "provenance": [],
      "gpuType": "T4"
    },
    "kernelspec": {
      "name": "python3",
      "display_name": "Python 3"
    },
    "language_info": {
      "name": "python"
    },
    "accelerator": "GPU"
  },
  "cells": [
    {
      "cell_type": "code",
      "execution_count": null,
      "metadata": {
        "colab": {
          "base_uri": "https://localhost:8080/"
        },
        "id": "fxKnFCSq3ggI",
        "outputId": "834e5a63-5a4d-4536-f18a-ed33de856c0c"
      },
      "outputs": [
        {
          "output_type": "stream",
          "name": "stdout",
          "text": [
            "Nama : Dwi Arbi Nugroho\n",
            "Umur : 19\n",
            "Alamat : Pulo Gadung\n",
            "Email : narbin@gmail.com\n",
            "Dosen : Bu Binti\n",
            "Ini adalah biodata anda\n",
            "Nama   : Dwi Arbi Nugroho\n",
            "Umur   : 19\n",
            "Alamat : Pulo Gadung\n",
            "Email  : narbin@gmail.com\n",
            "Dosen  : Bu Binti\n",
            "\n"
          ]
        }
      ],
      "source": [
        "nama = input(\"Nama : \")\n",
        "umur = input(\"Umur : \")\n",
        "alamat = input(\"Alamat : \")\n",
        "email = input(\"Email : \")\n",
        "dosen = input(\"Dosen : \")\n",
        "\n",
        "with open(\"biodata.txt\", \"w\") as file:\n",
        "  file.write(f\"Nama   : {nama}\\n\")\n",
        "  file.write(f\"Umur   : {umur}\\n\")\n",
        "  file.write(f\"Alamat : {alamat}\\n\")\n",
        "  file.write(f\"Email  : {email}\\n\")\n",
        "  file.write(f\"Dosen  : {dosen}\\n\")\n",
        "\n",
        "with open(\"biodata.txt\", \"r\") as file:\n",
        "  print(\"Ini adalah biodata anda\")\n",
        "  print(file.read())\n",
        "\n",
        "file.close()"
      ]
    },
    {
      "cell_type": "code",
      "source": [
        "def c(file_name):\n",
        "  with open(file_name, \"w\") as file:\n",
        "    print(f\"anda sudah membuat file yang bernama {file_name}\")\n",
        "  file.close()\n",
        "\n",
        "def r(file_name):\n",
        "  with open(file_name, \"r\") as file:\n",
        "    print(f\"ini adalah isi file yang bernama\\n{file.read()}\")\n",
        "  file.close()\n",
        "\n",
        "def a(file_name):\n",
        "  teks = input(\"teks : \")\n",
        "  with open(file_name, \"a\") as file:\n",
        "    file.write(teks + \"\\n\")\n",
        "    print(\"teks berhasil ditambahkan\")\n",
        "  file.close()\n",
        "\n",
        "def q():\n",
        "  print(\"program selesai\")\n",
        "  exit()\n",
        "\n",
        "print(f\"1. buat file\\n2. baca file\\n3. tambahkan teks ke file\\n4. keluar\")\n",
        "pilih = int(input(\"pilih mene (1-4) : \"))\n",
        "\n",
        "if pilih == 1:\n",
        "  file_name = input(\"masukkan nama file : \")\n",
        "  c(file_name)\n",
        "elif pilih == 2:\n",
        "  file_name = input(\"apa nama file yang ingin dicari : \")\n",
        "  r(file_name)\n",
        "elif pilih == 3:\n",
        "  file_name = input(\"apa nama file yang ingin di isi : \")\n",
        "  a(file_name)\n",
        "elif pilih == 4:\n",
        "  q()\n",
        "\n",
        "\n",
        "\n",
        ""
      ],
      "metadata": {
        "colab": {
          "base_uri": "https://localhost:8080/"
        },
        "id": "LyWGmgnyhjii",
        "outputId": "7b513f67-5c6a-4274-b556-52cdffe93b15"
      },
      "execution_count": 13,
      "outputs": [
        {
          "output_type": "stream",
          "name": "stdout",
          "text": [
            "1. buat file\n",
            "2. baca file\n",
            "3. tambahkan teks ke file\n",
            "4. keluar\n",
            "pilih mene (1-4) : 4\n",
            "program selesai\n"
          ]
        }
      ]
    },
    {
      "cell_type": "code",
      "source": [],
      "metadata": {
        "id": "BUYRH9GRjBQu"
      },
      "execution_count": null,
      "outputs": []
    }
  ]
}