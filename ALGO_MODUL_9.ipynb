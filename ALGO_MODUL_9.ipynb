{
  "nbformat": 4,
  "nbformat_minor": 0,
  "metadata": {
    "colab": {
      "provenance": [],
      "gpuType": "T4"
    },
    "kernelspec": {
      "name": "python3",
      "display_name": "Python 3"
    },
    "language_info": {
      "name": "python"
    },
    "accelerator": "GPU"
  },
  "cells": [
    {
      "cell_type": "code",
      "execution_count": null,
      "metadata": {
        "colab": {
          "base_uri": "https://localhost:8080/"
        },
        "id": "fxKnFCSq3ggI",
        "outputId": "834e5a63-5a4d-4536-f18a-ed33de856c0c"
      },
      "outputs": [
        {
          "output_type": "stream",
          "name": "stdout",
          "text": [
            "Nama : Dwi Arbi Nugroho\n",
            "Umur : 19\n",
            "Alamat : Pulo Gadung\n",
            "Email : narbin@gmail.com\n",
            "Dosen : Bu Binti\n",
            "Ini adalah biodata anda\n",
            "Nama   : Dwi Arbi Nugroho\n",
            "Umur   : 19\n",
            "Alamat : Pulo Gadung\n",
            "Email  : narbin@gmail.com\n",
            "Dosen  : Bu Binti\n",
            "\n"
          ]
        }
      ],
      "source": [
        "nama = input(\"Nama : \")\n",
        "umur = input(\"Umur : \")\n",
        "alamat = input(\"Alamat : \")\n",
        "email = input(\"Email : \")\n",
        "dosen = input(\"Dosen : \")\n",
        "\n",
        "with open(\"biodata.txt\", \"w\") as file:\n",
        "  file.write(f\"Nama   : {nama}\\n\")\n",
        "  file.write(f\"Umur   : {umur}\\n\")\n",
        "  file.write(f\"Alamat : {alamat}\\n\")\n",
        "  file.write(f\"Email  : {email}\\n\")\n",
        "  file.write(f\"Dosen  : {dosen}\\n\")\n",
        "\n",
        "with open(\"biodata.txt\", \"r\") as file:\n",
        "  print(\"Ini adalah biodata anda\")\n",
        "  print(file.read())\n",
        "\n",
        "file.close()"
      ]
    },
    {
      "cell_type": "code",
      "source": [
        "def create_file(file_name):\n",
        "    \"\"\"Fungsi untuk membuat file baru.\"\"\"\n",
        "    with open(file_name, 'w') as file:\n",
        "        print(f\"File '{file_name}' berhasil dibuat.\")\n",
        "\n",
        "def read_file(file_name):\n",
        "    \"\"\"Fungsi untuk membaca isi file.\"\"\"\n",
        "    try:\n",
        "        with open(file_name, 'r') as file:\n",
        "            content = file.read()\n",
        "            print(\"\\nIsi file:\")\n",
        "            print(content)\n",
        "    except FileNotFoundError:\n",
        "        print(f\"File '{file_name}' tidak ditemukan.\")\n",
        "\n",
        "def append_to_file(file_name, text):\n",
        "    \"\"\"Fungsi untuk menambahkan teks ke dalam file.\"\"\"\n",
        "    with open(file_name, 'a') as file:\n",
        "        file.write(text + '\\n')\n",
        "        print(f\"Teks berhasil ditambahkan ke file '{file_name}'.\")\n",
        "\n",
        "def main():\n",
        "    print(\"Program Manajemen File\")\n",
        "    while True:\n",
        "        print(\"\\nMenu:\")\n",
        "        print(\"1. Buat file baru\")\n",
        "        print(\"2. Baca file\")\n",
        "        print(\"3. Tambahkan teks ke file\")\n",
        "        print(\"4. Keluar\")\n",
        "\n",
        "        choice = input(\"Pilih menu (1-4): \")\n",
        "        if choice == '1':\n",
        "            file_name = input(\"Masukkan nama file yang ingin dibuat: \")\n",
        "            create_file(file_name)\n",
        "        elif choice == '2':\n",
        "            file_name = input(\"Masukkan nama file yang ingin dibaca: \")\n",
        "            read_file(file_name)\n",
        "        elif choice == '3':\n",
        "            file_name = input(\"Masukkan nama file yang ingin ditambahkan teks: \")\n",
        "            text = input(\"Masukkan teks yang ingin ditambahkan: \")\n",
        "            append_to_file(file_name, text)\n",
        "        elif choice == '4':\n",
        "            print(\"Program selesai. Terima kasih!\")\n",
        "            break\n",
        "        else:\n",
        "            print(\"Pilihan tidak valid, silakan coba lagi.\")\n",
        "\n",
        "# Menjalankan program utama\n",
        "if __name__ == \"__main__\":\n",
        "    main()\n"
      ],
      "metadata": {
        "id": "bRdSMdkg_mza",
        "colab": {
          "base_uri": "https://localhost:8080/",
          "height": 807
        },
        "outputId": "df770c9d-6db0-415d-80a8-ff31954a24ce"
      },
      "execution_count": 1,
      "outputs": [
        {
          "output_type": "stream",
          "name": "stdout",
          "text": [
            "Program Manajemen File\n",
            "\n",
            "Menu:\n",
            "1. Buat file baru\n",
            "2. Baca file\n",
            "3. Tambahkan teks ke file\n",
            "4. Keluar\n",
            "Pilih menu (1-4): 1\n",
            "Masukkan nama file yang ingin dibuat: ccc\n",
            "File 'ccc' berhasil dibuat.\n",
            "\n",
            "Menu:\n",
            "1. Buat file baru\n",
            "2. Baca file\n",
            "3. Tambahkan teks ke file\n",
            "4. Keluar\n",
            "Pilih menu (1-4): 2\n",
            "Masukkan nama file yang ingin dibaca: ccc\n",
            "\n",
            "Isi file:\n",
            "\n",
            "\n",
            "Menu:\n",
            "1. Buat file baru\n",
            "2. Baca file\n",
            "3. Tambahkan teks ke file\n",
            "4. Keluar\n"
          ]
        },
        {
          "output_type": "error",
          "ename": "KeyboardInterrupt",
          "evalue": "Interrupted by user",
          "traceback": [
            "\u001b[0;31m---------------------------------------------------------------------------\u001b[0m",
            "\u001b[0;31mKeyboardInterrupt\u001b[0m                         Traceback (most recent call last)",
            "\u001b[0;32m<ipython-input-1-060b2d01ed54>\u001b[0m in \u001b[0;36m<cell line: 49>\u001b[0;34m()\u001b[0m\n\u001b[1;32m     48\u001b[0m \u001b[0;31m# Menjalankan program utama\u001b[0m\u001b[0;34m\u001b[0m\u001b[0;34m\u001b[0m\u001b[0m\n\u001b[1;32m     49\u001b[0m \u001b[0;32mif\u001b[0m \u001b[0m__name__\u001b[0m \u001b[0;34m==\u001b[0m \u001b[0;34m\"__main__\"\u001b[0m\u001b[0;34m:\u001b[0m\u001b[0;34m\u001b[0m\u001b[0;34m\u001b[0m\u001b[0m\n\u001b[0;32m---> 50\u001b[0;31m     \u001b[0mmain\u001b[0m\u001b[0;34m(\u001b[0m\u001b[0;34m)\u001b[0m\u001b[0;34m\u001b[0m\u001b[0;34m\u001b[0m\u001b[0m\n\u001b[0m",
            "\u001b[0;32m<ipython-input-1-060b2d01ed54>\u001b[0m in \u001b[0;36mmain\u001b[0;34m()\u001b[0m\n\u001b[1;32m     29\u001b[0m         \u001b[0mprint\u001b[0m\u001b[0;34m(\u001b[0m\u001b[0;34m\"4. Keluar\"\u001b[0m\u001b[0;34m)\u001b[0m\u001b[0;34m\u001b[0m\u001b[0;34m\u001b[0m\u001b[0m\n\u001b[1;32m     30\u001b[0m \u001b[0;34m\u001b[0m\u001b[0m\n\u001b[0;32m---> 31\u001b[0;31m         \u001b[0mchoice\u001b[0m \u001b[0;34m=\u001b[0m \u001b[0minput\u001b[0m\u001b[0;34m(\u001b[0m\u001b[0;34m\"Pilih menu (1-4): \"\u001b[0m\u001b[0;34m)\u001b[0m\u001b[0;34m\u001b[0m\u001b[0;34m\u001b[0m\u001b[0m\n\u001b[0m\u001b[1;32m     32\u001b[0m         \u001b[0;32mif\u001b[0m \u001b[0mchoice\u001b[0m \u001b[0;34m==\u001b[0m \u001b[0;34m'1'\u001b[0m\u001b[0;34m:\u001b[0m\u001b[0;34m\u001b[0m\u001b[0;34m\u001b[0m\u001b[0m\n\u001b[1;32m     33\u001b[0m             \u001b[0mfile_name\u001b[0m \u001b[0;34m=\u001b[0m \u001b[0minput\u001b[0m\u001b[0;34m(\u001b[0m\u001b[0;34m\"Masukkan nama file yang ingin dibuat: \"\u001b[0m\u001b[0;34m)\u001b[0m\u001b[0;34m\u001b[0m\u001b[0;34m\u001b[0m\u001b[0m\n",
            "\u001b[0;32m/usr/local/lib/python3.10/dist-packages/ipykernel/kernelbase.py\u001b[0m in \u001b[0;36mraw_input\u001b[0;34m(self, prompt)\u001b[0m\n\u001b[1;32m    849\u001b[0m                 \u001b[0;34m\"raw_input was called, but this frontend does not support input requests.\"\u001b[0m\u001b[0;34m\u001b[0m\u001b[0;34m\u001b[0m\u001b[0m\n\u001b[1;32m    850\u001b[0m             )\n\u001b[0;32m--> 851\u001b[0;31m         return self._input_request(str(prompt),\n\u001b[0m\u001b[1;32m    852\u001b[0m             \u001b[0mself\u001b[0m\u001b[0;34m.\u001b[0m\u001b[0m_parent_ident\u001b[0m\u001b[0;34m,\u001b[0m\u001b[0;34m\u001b[0m\u001b[0;34m\u001b[0m\u001b[0m\n\u001b[1;32m    853\u001b[0m             \u001b[0mself\u001b[0m\u001b[0;34m.\u001b[0m\u001b[0m_parent_header\u001b[0m\u001b[0;34m,\u001b[0m\u001b[0;34m\u001b[0m\u001b[0;34m\u001b[0m\u001b[0m\n",
            "\u001b[0;32m/usr/local/lib/python3.10/dist-packages/ipykernel/kernelbase.py\u001b[0m in \u001b[0;36m_input_request\u001b[0;34m(self, prompt, ident, parent, password)\u001b[0m\n\u001b[1;32m    893\u001b[0m             \u001b[0;32mexcept\u001b[0m \u001b[0mKeyboardInterrupt\u001b[0m\u001b[0;34m:\u001b[0m\u001b[0;34m\u001b[0m\u001b[0;34m\u001b[0m\u001b[0m\n\u001b[1;32m    894\u001b[0m                 \u001b[0;31m# re-raise KeyboardInterrupt, to truncate traceback\u001b[0m\u001b[0;34m\u001b[0m\u001b[0;34m\u001b[0m\u001b[0m\n\u001b[0;32m--> 895\u001b[0;31m                 \u001b[0;32mraise\u001b[0m \u001b[0mKeyboardInterrupt\u001b[0m\u001b[0;34m(\u001b[0m\u001b[0;34m\"Interrupted by user\"\u001b[0m\u001b[0;34m)\u001b[0m \u001b[0;32mfrom\u001b[0m \u001b[0;32mNone\u001b[0m\u001b[0;34m\u001b[0m\u001b[0;34m\u001b[0m\u001b[0m\n\u001b[0m\u001b[1;32m    896\u001b[0m             \u001b[0;32mexcept\u001b[0m \u001b[0mException\u001b[0m \u001b[0;32mas\u001b[0m \u001b[0me\u001b[0m\u001b[0;34m:\u001b[0m\u001b[0;34m\u001b[0m\u001b[0;34m\u001b[0m\u001b[0m\n\u001b[1;32m    897\u001b[0m                 \u001b[0mself\u001b[0m\u001b[0;34m.\u001b[0m\u001b[0mlog\u001b[0m\u001b[0;34m.\u001b[0m\u001b[0mwarning\u001b[0m\u001b[0;34m(\u001b[0m\u001b[0;34m\"Invalid Message:\"\u001b[0m\u001b[0;34m,\u001b[0m \u001b[0mexc_info\u001b[0m\u001b[0;34m=\u001b[0m\u001b[0;32mTrue\u001b[0m\u001b[0;34m)\u001b[0m\u001b[0;34m\u001b[0m\u001b[0;34m\u001b[0m\u001b[0m\n",
            "\u001b[0;31mKeyboardInterrupt\u001b[0m: Interrupted by user"
          ]
        }
      ]
    },
    {
      "cell_type": "code",
      "source": [
        "def c(file_name):\n",
        "  with open(file_name, \"w\") as file:\n",
        "    print(f\"anda sudah membuat file yang bernama {file_name}\")\n",
        "  file.close()\n",
        "\n",
        "def r(file_name):\n",
        "  with open(file_name, \"r\") as file:\n",
        "    print(f\"ini adalah isi file yang bernama\\n{file.read()}\")\n",
        "  file.close()\n",
        "\n",
        "def a(file_name):\n",
        "  teks = input(\"teks : \")\n",
        "  with open(file_name, \"a\") as file:\n",
        "    file.write(teks + \"\\n\")\n",
        "    print(\"teks berhasil ditambahkan\")\n",
        "  file.close()\n",
        "\n",
        "def q():\n",
        "  print(\"program selesai\")\n",
        "  exit()\n",
        "\n",
        "print(f\"1. buat file\\n2. baca file\\n3. tambahkan teks ke file\\n4. keluar\")\n",
        "pilih = int(input(\"pilih mene (1-4) : \"))\n",
        "\n",
        "if pilih == 1:\n",
        "  file_name = input(\"masukkan nama file : \")\n",
        "  c(file_name)\n",
        "elif pilih == 2:\n",
        "  file_name = input(\"apa nama file yang ingin dicari : \")\n",
        "  r(file_name)\n",
        "elif pilih == 3:\n",
        "  file_name = input(\"apa nama file yang ingin di isi : \")\n",
        "  a(file_name)\n",
        "elif pilih == 4:\n",
        "  q()\n",
        "\n",
        "\n",
        "\n",
        ""
      ],
      "metadata": {
        "colab": {
          "base_uri": "https://localhost:8080/"
        },
        "id": "LyWGmgnyhjii",
        "outputId": "7b513f67-5c6a-4274-b556-52cdffe93b15"
      },
      "execution_count": 13,
      "outputs": [
        {
          "output_type": "stream",
          "name": "stdout",
          "text": [
            "1. buat file\n",
            "2. baca file\n",
            "3. tambahkan teks ke file\n",
            "4. keluar\n",
            "pilih mene (1-4) : 4\n",
            "program selesai\n"
          ]
        }
      ]
    },
    {
      "cell_type": "code",
      "source": [],
      "metadata": {
        "id": "BUYRH9GRjBQu"
      },
      "execution_count": null,
      "outputs": []
    }
  ]
}