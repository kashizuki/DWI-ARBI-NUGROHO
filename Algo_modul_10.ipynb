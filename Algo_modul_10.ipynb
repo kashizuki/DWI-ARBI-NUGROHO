{
  "nbformat": 4,
  "nbformat_minor": 0,
  "metadata": {
    "colab": {
      "provenance": []
    },
    "kernelspec": {
      "name": "python3",
      "display_name": "Python 3"
    },
    "language_info": {
      "name": "python"
    }
  },
  "cells": [
    {
      "cell_type": "code",
      "source": [
        "angka = list(map(int, input(\"masukkan angka-angka di dalam list\").split()))\n",
        "print(f'list sebelum diurut : {angka}')\n",
        "\n",
        "target = int(input(\"masukkan angka yang ingin dicari : \"))\n",
        "\n",
        "def f(urut):\n",
        "    x = len(urut)\n",
        "    for i in range(x):\n",
        "        for j in range(0, x-i-1):\n",
        "            if urut[j] > urut[j+1]:\n",
        "                urut[j], urut[j+1] = urut[j+1], urut[j]\n",
        "    return urut\n",
        "\n",
        "angka = f(angka)\n",
        "print(f\"List setelah diurutkan: {angka}\")\n",
        "no = -1\n",
        "\n",
        "for i in range(0, len(angka) - 1):\n",
        "  tengah = (i + len(angka) - 1) // 2\n",
        "  if angka[tengah] == target:\n",
        "    no = tengah\n",
        "    break\n",
        "  elif angka[tengah] < target:\n",
        "    i = tengah + 1\n",
        "  else:\n",
        "    i = tengah - 1\n",
        "\n",
        "if no != -1:\n",
        "  print(f\"Angka {target} ditemukan di indeks {no}.\")\n",
        "else:\n",
        "  print(f\"Angka {target} tidak ditemukan dalam list.\")\n",
        "\n"
      ],
      "metadata": {
        "id": "aoc4BWCMGgUw",
        "colab": {
          "base_uri": "https://localhost:8080/"
        },
        "outputId": "892a4809-5cd8-4b04-9795-70d3b8fcf494"
      },
      "execution_count": 10,
      "outputs": [
        {
          "output_type": "stream",
          "name": "stdout",
          "text": [
            "masukkan angka-angka di dalam list12 32 43 34 45 54 67 76 \n",
            "list sebelum diurut : [12, 32, 43, 34, 45, 54, 67, 76]\n",
            "masukkan angka yang ingin dicari : 67\n",
            "List setelah diurutkan: [12, 32, 34, 43, 45, 54, 67, 76]\n",
            "Angka 67 ditemukan di indeks 6.\n"
          ]
        }
      ]
    },
    {
      "cell_type": "code",
      "source": [
        "#latihan 2\n",
        "\n",
        "angka = list(map(int, input(\"masukkan angka-angka di dalam list : \").split()))\n",
        "print(f\"list sebelum diurut : {angka}\")\n",
        "panjang = len(angka)\n",
        "\n",
        "while panjang > 1:\n",
        "  for i in range(panjang - 1):\n",
        "    if angka[i] > angka[i + 1]:\n",
        "      angka[i], angka[i + 1] = angka[i + 1], angka[i]\n",
        "  panjang -= 1\n",
        "\n",
        "print(f\"List setelah diurutkan : {angka}\")"
      ],
      "metadata": {
        "colab": {
          "base_uri": "https://localhost:8080/"
        },
        "id": "ZjMBvipp1liW",
        "outputId": "d3183639-f9bf-4b2c-9757-8d9264344766"
      },
      "execution_count": 13,
      "outputs": [
        {
          "output_type": "stream",
          "name": "stdout",
          "text": [
            "masukkan angka-angka di dalam list : '3 2 4 5 1 3 4 6 43 3\n",
            "list sebelum diurut : [3, 2, 4, 5, 1, 3, 4, 6, 43, 3]\n",
            "List setelah diurutkan : [1, 2, 3, 3, 3, 4, 4, 5, 6, 43]\n"
          ]
        }
      ]
    }
  ]
}