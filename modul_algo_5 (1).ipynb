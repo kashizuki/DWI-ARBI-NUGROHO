{
  "nbformat": 4,
  "nbformat_minor": 0,
  "metadata": {
    "colab": {
      "provenance": []
    },
    "kernelspec": {
      "name": "python3",
      "display_name": "Python 3"
    },
    "language_info": {
      "name": "python"
    }
  },
  "cells": [
    {
      "cell_type": "code",
      "execution_count": null,
      "metadata": {
        "colab": {
          "base_uri": "https://localhost:8080/"
        },
        "id": "MPYJXeBNmVbZ",
        "outputId": "8a8863f5-259b-4480-84ad-4df613c42ce0"
      },
      "outputs": [
        {
          "output_type": "stream",
          "name": "stdout",
          "text": [
            "berapa mapel yang ingin dimasukkan : 3\n",
            "berapa nilai di pelajaran 1 : A\n",
            "berapa nilai di pelajaran 2 : B\n",
            "berapa nilai di pelajaran 3 : C\n",
            "total nilai : 9.0\n",
            "rata-rata : 3.0\n"
          ]
        }
      ],
      "source": [
        "mapel = int(input(\"berapa mapel yang ingin dimasukkan : \"))\n",
        "counter = 0\n",
        "total_nilai = 0\n",
        "\n",
        "while counter < mapel:\n",
        "  nilai = str(input(f\"berapa nilai di pelajaran {counter + 1} : \"))\n",
        "\n",
        "  if nilai == \"A\":\n",
        "    total_nilai += 4.00\n",
        "    counter += 1\n",
        "  elif nilai == \"A-\":\n",
        "    total_nilai += 3.75\n",
        "    counter += 1\n",
        "  elif nilai == \"B+\":\n",
        "    total_nilai += 3.50\n",
        "    counter += 1\n",
        "  elif nilai == \"B\":\n",
        "    total_nilai += 3.00\n",
        "    counter += 1\n",
        "  elif nilai == \"B-\":\n",
        "    total_nilai += 2.75\n",
        "    counter += 1\n",
        "  elif nilai == \"C+\":\n",
        "    total_nilai += 2.50\n",
        "    counter += 1\n",
        "  elif nilai == \"C\":\n",
        "    total_nilai += 2.00\n",
        "    counter += 1\n",
        "  elif nilai == \"C-\":\n",
        "    total_nilai += 1.75\n",
        "    counter += 1\n",
        "  elif nilai == \"D\":\n",
        "    total_nilai += 1.50\n",
        "    counter += 1\n",
        "  elif nilai == \"E\":\n",
        "    total_nilai += 1.25\n",
        "    counter += 1\n",
        "\n",
        "\n",
        "rata = total_nilai / mapel\n",
        "\n",
        "print(f\"total nilai : {total_nilai}\")\n",
        "print(f\"rata-rata : {rata}\")\n",
        "\n"
      ]
    },
    {
      "cell_type": "code",
      "source": [
        "print(\"--- Selamat Datang di Roler Coaster ---\")\n",
        "kel = str(input(\"anda kelompok atau individu : \"))\n",
        "\n",
        "if kel == \"individu\":\n",
        "  while True:\n",
        "    try:\n",
        "      umur = int(input(\"berapa umur anda : \"))\n",
        "      if umur >= 1 and umur <= 2:\n",
        "        print(\"anda di gratiskan\")\n",
        "        break\n",
        "      elif umur >= 3 and umur <= 12:\n",
        "        print(\"Tiket seharga 14 dolar\")\n",
        "        break\n",
        "      elif umur >= 12 and umur <= 65:\n",
        "        print(\"Tiket seharga 18 dolar\")\n",
        "        break\n",
        "      elif umur > 65:\n",
        "        print(\"Tiket seharga 23 dolar\")\n",
        "        break\n",
        "    except ValueError:\n",
        "      print(\"Input tidak benar. Silakan masukkan angka.\")\n",
        "\n",
        "if kel == \"kelompok\":\n",
        "        member = int(input(\"Berapa anggota kelompok: \"))\n",
        "        counter = 0\n",
        "        while counter < member:\n",
        "            try:\n",
        "                umur = int(input(f\"Berapa umur anggota ke-{counter + 1}: \"))\n",
        "                if umur >= 1 and umur <= 2:\n",
        "                    print(\"anda di gratiskan\")\n",
        "                    break\n",
        "                elif umur >= 3 and umur <= 12:\n",
        "                    print(\"Tiket seharga 14 dolar untuk anggota ini\")\n",
        "                elif umur >= 12 and umur <= 65:\n",
        "                    print(\"Tiket seharga 18 dolar untuk anggota ini\")\n",
        "                elif umur > 65:\n",
        "                    print(\"Tiket seharga 23 dolar untuk anggota ini\")\n",
        "                counter += 1\n",
        "            except ValueError:\n",
        "                print(\"Input tidak benar. Silakan masukkan angka.\")\n"
      ],
      "metadata": {
        "id": "WMrYYLhw5X-H",
        "colab": {
          "base_uri": "https://localhost:8080/"
        },
        "outputId": "49dd614d-b6f0-4a3e-dd1d-2916ba5951d5"
      },
      "execution_count": 2,
      "outputs": [
        {
          "output_type": "stream",
          "name": "stdout",
          "text": [
            "--- Selamat Datang di Roler Coaster ---\n",
            "anda kelompok atau individu : kelompok\n",
            "Berapa anggota kelompok: 5\n",
            "Berapa umur anggota ke-1: 10\n",
            "Tiket seharga 14 dolar untuk anggota ini\n",
            "Berapa umur anggota ke-2: 20\n",
            "Tiket seharga 18 dolar untuk anggota ini\n",
            "Berapa umur anggota ke-3: 30\n",
            "Tiket seharga 18 dolar untuk anggota ini\n",
            "Berapa umur anggota ke-4: 40\n",
            "Tiket seharga 18 dolar untuk anggota ini\n",
            "Berapa umur anggota ke-5: 50\n",
            "Tiket seharga 18 dolar untuk anggota ini\n"
          ]
        }
      ]
    }
  ]
}