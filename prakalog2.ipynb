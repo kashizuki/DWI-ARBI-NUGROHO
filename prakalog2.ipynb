{
  "nbformat": 4,
  "nbformat_minor": 0,
  "metadata": {
    "colab": {
      "provenance": []
    },
    "kernelspec": {
      "name": "python3",
      "display_name": "Python 3"
    },
    "language_info": {
      "name": "python"
    }
  },
  "cells": [
    {
      "cell_type": "code",
      "execution_count": null,
      "metadata": {
        "colab": {
          "base_uri": "https://localhost:8080/"
        },
        "id": "BLLpLG-ReN8-",
        "outputId": "4a8a93cf-ab1f-441a-a145-e66da0ba3d40"
      },
      "outputs": [
        {
          "output_type": "stream",
          "name": "stdout",
          "text": [
            "Nilai Pertama : 9\n",
            "Nilai Kedua : 2\n",
            "Hasil Pertambahan :  11\n",
            "Hasil Pengurangan :  7\n",
            "Hasil Perkalian :  18\n",
            "Hasil Sisa Bagi :  1\n",
            "Hasil Pembagian :  4.5\n",
            "Hasil Logaritma dari a :  0.9542425094393249\n",
            "Hasil Logaritma dari b :  0.3010299956639812\n",
            "Hasil pangkat =  81\n"
          ]
        }
      ],
      "source": [
        "import math\n",
        "a = int(input(\"Nilai Pertama : \"))\n",
        "b = int(input(\"Nilai Kedua : \"))\n",
        "\n",
        "log_a = math.log10(a)\n",
        "log_b = math.log10(b)\n",
        "\n",
        "tambah = a + b\n",
        "kurang = a - b\n",
        "kali = a * b\n",
        "module = a % b\n",
        "bagi = a / b\n",
        "pangkat = a ** b\n",
        "\n",
        "\n",
        "print(\"Hasil Pertambahan : \", tambah)\n",
        "print(\"Hasil Pengurangan : \",kurang)\n",
        "print(\"Hasil Perkalian : \",kali)\n",
        "print(\"Hasil Sisa Bagi : \",module)\n",
        "print(\"Hasil Pembagian : \",bagi)\n",
        "print(\"Hasil Logaritma dari a : \", log_a)\n",
        "print(\"Hasil Logaritma dari b : \", log_b)\n",
        "print(\"Hasil pangkat = \", pangkat)\n",
        "\n",
        "\n",
        "\n"
      ]
    },
    {
      "cell_type": "code",
      "source": [
        "import math\n",
        "\n",
        "\n",
        "R = 6371 # radius yang ada di bumi\n",
        "\n",
        "bu_jaktim = -6.2254 # Bujur Jakarta Timur\n",
        "lin_jaktim = 106.9004 # Lintang Jakarta Timur\n",
        "bu_srby = -7.2575 # Bujur Surabaya\n",
        "lin_srby = 112.7521 # Lintang Surabaya\n",
        "\n",
        "bu_jaktim_rad = math.radians(bu_jaktim)\n",
        "lin_jaktim_rad = math.radians(lin_jaktim)\n",
        "bu_srby_rad = math.radians(bu_srby)\n",
        "lin_srby_rad = math.radians(lin_srby)\n",
        "\n",
        "selisih_jaktim = bu_jaktim_rad - bu_srby_rad\n",
        "selisih_srby = lin_jaktim_rad - lin_srby_rad\n",
        "\n",
        "#rumus\n",
        "a = math.sin(selisih_srby / 2)**2 + math.cos(lin_jaktim_rad) * math.cos(lin_srby_rad) * math.sin(selisih_jaktim  / 2)**2\n",
        "c = 2 * math.atan2(math.sqrt(a), math.sqrt(1 - a))\n",
        "distance = R * c\n",
        "\n",
        "jarak = bu_jaktim, lin_jaktim, bu_srby,lin_srby\n",
        "print(f\"Jarak antara Jakarta Timur dan Surabaya: {distance:.2f} km\")\n",
        "\n"
      ],
      "metadata": {
        "colab": {
          "base_uri": "https://localhost:8080/"
        },
        "id": "YKtV7p3OFU-H",
        "outputId": "b4825572-c9e0-4be1-ab51-55425adcd6d0"
      },
      "execution_count": 9,
      "outputs": [
        {
          "output_type": "stream",
          "name": "stdout",
          "text": [
            "Jarak antara Jakarta Timur dan Surabaya: 651.82 km\n"
          ]
        }
      ]
    }
  ]
}